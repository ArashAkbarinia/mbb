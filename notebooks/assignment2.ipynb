{
 "cells": [
  {
   "cell_type": "markdown",
   "id": "4745dce1-00ee-4489-bb07-ccce1d293974",
   "metadata": {},
   "source": [
    "# Introductoin\n",
    "\n",
    "The objective of this assignment is to familiarise yourself with datasets and dataloaders while exploring a real deep learning project. We will use PyTorch framework to implement this."
   ]
  },
  {
   "cell_type": "markdown",
   "id": "94249204-881e-4b1b-9bf8-7c8dc5d6440d",
   "metadata": {},
   "source": [
    "# Prerequisite\n",
    "\n",
    "In the class we worked on notebook that [builds a DNN project](https://github.com/ArashAkbarinia/mbb/blob/main/notebooks/build_DNN_project.ipynb).\n",
    "The assignment is continuation of that notebook."
   ]
  },
  {
   "cell_type": "markdown",
   "id": "9033babc-0f2c-4996-8a87-b4c0f09f7e05",
   "metadata": {
    "tags": []
   },
   "source": [
    "# Assignment\n",
    "\n",
    "Please do the following questions and submit it by **Thursday May 4 at 23h59 O'clock**.\n",
    "The submission is one or more **notebook (.ipynb)** files that can inlclude code, comments, written texts, and plots."
   ]
  },
  {
   "cell_type": "markdown",
   "id": "e1828bba-3f67-47fb-95e0-59b071785fcf",
   "metadata": {},
   "source": [
    "# 1. Dataloader from a directory\n",
    "\n",
    "As discusses in [builds a DNN project](https://github.com/ArashAkbarinia/mbb/blob/main/notebooks/build_DNN_project.ipynb) we cannot load all images in the memory.\n",
    "\n",
    "Change the code in ordet to load the dataset on the fly from this [zip file](https://www.dropbox.com/s/rltbecab0zx1zep/shape_set.zip?dl=0) (this is the same images we had loaded all in the memory).\n",
    " * Download and extract the zip file into one directory.\n",
    " * The directory contains to subfolders of train and test and two csv files for their corresponding groound-truths.\n",
    " * The dataloader should receive the path to this directory and read images in the `getitem`function and return it."
   ]
  },
  {
   "cell_type": "markdown",
   "id": "5f54d89a-b284-4108-83da-2c72de4f6ced",
   "metadata": {},
   "source": [
    "# 2. Background of train/test set\n",
    "\n",
    "Change the [builds a DNN project](https://github.com/ArashAkbarinia/mbb/blob/main/notebooks/build_DNN_project.ipynb) notebook so the training set always has achomatic backgrounds (grey-scale) and test set always colourful background.\n",
    "\n",
    " * The dataloader function should receive an argument which specifies what types of background to use.\n",
    " * Does the network generalise from the training set to test set.\n",
    " * Change the sets (train colourful backgrounds, test grey backgrounds), perform similar experiments."
   ]
  },
  {
   "cell_type": "code",
   "execution_count": null,
   "id": "6d295ee5-49db-4010-b642-62bda4defa08",
   "metadata": {},
   "outputs": [],
   "source": []
  }
 ],
 "metadata": {
  "kernelspec": {
   "display_name": "Python 3 (ipykernel)",
   "language": "python",
   "name": "python3"
  },
  "language_info": {
   "codemirror_mode": {
    "name": "ipython",
    "version": 3
   },
   "file_extension": ".py",
   "mimetype": "text/x-python",
   "name": "python",
   "nbconvert_exporter": "python",
   "pygments_lexer": "ipython3",
   "version": "3.10.6"
  }
 },
 "nbformat": 4,
 "nbformat_minor": 5
}
